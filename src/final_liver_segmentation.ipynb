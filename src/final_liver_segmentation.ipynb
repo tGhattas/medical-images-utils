{
 "cells": [
  {
   "cell_type": "code",
   "execution_count": 1,
   "metadata": {
    "id": "p7wr5moz2jUt"
   },
   "outputs": [],
   "source": [
    "#!git clone https://github.com/tGhattas/medical-images-utils.git\n"
   ]
  },
  {
   "cell_type": "code",
   "execution_count": 2,
   "metadata": {
    "id": "Iv9uHxRT-6uK"
   },
   "outputs": [],
   "source": [
    "#!pip install scikit-image==0.18.1"
   ]
  },
  {
   "cell_type": "code",
   "execution_count": 2,
   "metadata": {},
   "outputs": [
    {
     "name": "stdout",
     "output_type": "stream",
     "text": [
      "\u001b[34m__pycache__\u001b[m\u001b[m                    processor.py\r\n",
      "final_liver_segmentation.ipynb\r\n"
     ]
    }
   ],
   "source": [
    "!ls"
   ]
  },
  {
   "cell_type": "code",
   "execution_count": 2,
   "metadata": {
    "id": "tK8kAiKucjkL"
   },
   "outputs": [],
   "source": [
    "import os\n",
    "from processor import *\n",
    "from sys import platform\n",
    "import nibabel as nib\n",
    "import matplotlib.pyplot as plt\n",
    "from skimage import data\n",
    "from ipywidgets import interact, interactive, fixed, interact_manual\n",
    "import ipywidgets as widgets"
   ]
  },
  {
   "cell_type": "code",
   "execution_count": 3,
   "metadata": {
    "id": "Wob28NVTE8TS"
   },
   "outputs": [],
   "source": [
    "%matplotlib notebook\n",
    "# %matplotlib inline"
   ]
  },
  {
   "cell_type": "code",
   "execution_count": 4,
   "metadata": {},
   "outputs": [
    {
     "name": "stdout",
     "output_type": "stream",
     "text": [
      "Enabling notebook extension jupyter-js-widgets/extension...\r\n",
      "      - Validating: \u001b[32mOK\u001b[0m\r\n"
     ]
    }
   ],
   "source": [
    "!jupyter nbextension enable --py widgetsnbextension"
   ]
  },
  {
   "cell_type": "code",
   "execution_count": 5,
   "metadata": {
    "id": "GKOId1TmE9qH"
   },
   "outputs": [],
   "source": [
    "\n",
    "from datetime import datetime as dt\n",
    "def multi_slice_viewer(volumes):\n",
    "    volumes = volumes if isinstance(volumes, list) else [volumes]\n",
    "    figs = []\n",
    "    for j in range(len(volumes)):\n",
    "\n",
    "        fig, axes = plt.subplots(1, 3)\n",
    "        volume = volumes[j]\n",
    "        for i in range(3):\n",
    "            ax = axes[i]\n",
    "            ax.volume = volume\n",
    "            ax.index = volume.shape[i] // 2\n",
    "            where = [slice(-1,1,-1), slice(-1,1,-1), slice(-1,1,-1)]\n",
    "            where[i] = ax.index\n",
    "            where = tuple(where)\n",
    "            ax.imshow(volume[where])\n",
    "        \n",
    "#     fig.canvas.mpl_connect('scroll_event', process_key)\n",
    "#         fig.canvas.mpl_connect('key_press_event', process_key)\n",
    "#         fig.canvas.draw()\n",
    "        figs.append(fig)\n",
    "    return figs if len(figs) > 1 else figs[0]\n",
    "\n",
    "\n",
    "def select_slice(ax, ind, axis):\n",
    "    axz = [ax] if not isinstance(ax, list) else ax\n",
    "    for ax in axz:\n",
    "        volume = ax.volume\n",
    "        where = [slice(-1,1,-1), slice(-1,1,-1), slice(-1,1,-1)]\n",
    "        print('---- ind ', ind)\n",
    "        ax.index = int(ind) % volume.shape[axis]\n",
    "        print('---- volume.shape ', volume.shape)\n",
    "        where[axis] = ax.index\n",
    "        print('---- ax.index ', ax.index)\n",
    "        where = tuple(where)\n",
    "        print('---- images len ', len(ax.images))\n",
    "        print('---- where', where)\n",
    "        ax.images[0].set_array(volume[where])\n",
    "        \n",
    "     \n",
    "    \n",
    "def process_key(event):\n",
    "    fig = event.canvas.figure\n",
    "    ax = fig.axes[0]\n",
    "    if event.key == 'j':\n",
    "        previous_slice(ax)\n",
    "    elif event.key == 'k':\n",
    "        next_slice(ax)\n",
    "    fig.canvas.draw()\n",
    "\n",
    "def previous_slice(ax):\n",
    "    \"\"\"Go to the previous slice.\"\"\"\n",
    "    volume = ax.volume\n",
    "    ax.index = (ax.index - 1) % volume.shape[0]  # wrap around using %\n",
    "    ax.images[0].set_array(volume[ax.index])\n",
    "\n",
    "def next_slice(ax):\n",
    "    \"\"\"Go to the next slice.\"\"\"\n",
    "    volume = ax.volume\n",
    "    ax.index = (ax.index + 1) % volume.shape[0]\n",
    "    ax.images[0].set_array(volume[ax.index])\n",
    "    \n"
   ]
  },
  {
   "cell_type": "code",
   "execution_count": 8,
   "metadata": {
    "id": "fqksCK5ccnrU",
    "scrolled": false
   },
   "outputs": [],
   "source": [
    "\n",
    "desc = ['Sagital', 'Coronal', 'Axial']\n",
    "sliders_keeper = []\n",
    "plot_keeper = []\n"
   ]
  },
  {
   "cell_type": "code",
   "execution_count": 8,
   "metadata": {
    "scrolled": false
   },
   "outputs": [],
   "source": [
    "import time\n",
    "import numpy as np\n",
    "import plotly.graph_objects as go\n",
    "\n",
    "dir = './../data'\n",
    "nifti_file = nib.load(os.path.join(dir, 'Case1_CT.nii'))\n",
    "ct = nifti_file.get_fdata()\n",
    "\n",
    "# ct = np.swapaxes(ct,0,2)\n",
    "\n",
    "volume = ct.T\n",
    "r, c = volume[0].shape\n",
    "\n",
    "# Define frames\n",
    "\n",
    "nb_frames = 68\n",
    "\n",
    "fig = go.Figure(frames=[go.Frame(data=go.Surface(\n",
    "    z=(6.7 - k * 0.1) * np.ones((r, c)),\n",
    "    surfacecolor=np.flipud(volume[67 - k]),\n",
    "    cmin=0, cmax=200\n",
    "    ),\n",
    "    name=str(k) # you need to name the frame for the animation to behave properly\n",
    "    )\n",
    "    for k in range(nb_frames)])\n",
    "\n",
    "# Add data to be displayed before animation starts\n",
    "fig.add_trace(go.Surface(\n",
    "    z=6.7 * np.ones((r, c)),\n",
    "    surfacecolor=np.flipud(volume[67]),\n",
    "    colorscale='Gray',\n",
    "    cmin=0, cmax=200,\n",
    "    colorbar=dict(thickness=20, ticklen=4)\n",
    "    ))\n",
    "\n",
    "\n",
    "def frame_args(duration):\n",
    "    return {\n",
    "            \"frame\": {\"duration\": duration},\n",
    "            \"mode\": \"immediate\",\n",
    "            \"fromcurrent\": True,\n",
    "            \"transition\": {\"duration\": duration, \"easing\": \"linear\"},\n",
    "        }\n",
    "\n",
    "sliders = [\n",
    "            {\n",
    "                \"pad\": {\"b\": 10, \"t\": 60},\n",
    "                \"len\": 0.9,\n",
    "                \"x\": 0.1,\n",
    "                \"y\": 0,\n",
    "                \"steps\": [\n",
    "                    {\n",
    "                        \"args\": [[f.name], frame_args(0)],\n",
    "                        \"label\": str(k),\n",
    "                        \"method\": \"animate\",\n",
    "                    }\n",
    "                    for k, f in enumerate(fig.frames)\n",
    "                ],\n",
    "            }\n",
    "        ]\n",
    "\n",
    "# Layout\n",
    "fig.update_layout(\n",
    "         title='Slices in volumetric data',\n",
    "         width=600,\n",
    "         height=600,\n",
    "         scene=dict(\n",
    "                    zaxis=dict(range=[-0.1, 6.8], autorange=False),\n",
    "                    aspectratio=dict(x=1, y=1, z=1),\n",
    "                    ),\n",
    "         updatemenus = [\n",
    "            {\n",
    "                \"buttons\": [\n",
    "                    {\n",
    "                        \"args\": [None, frame_args(50)],\n",
    "                        \"label\": \"&#9654;\", # play symbol\n",
    "                        \"method\": \"animate\",\n",
    "                    },\n",
    "                    {\n",
    "                        \"args\": [[None], frame_args(0)],\n",
    "                        \"label\": \"&#9724;\", # pause symbol\n",
    "                        \"method\": \"animate\",\n",
    "                    },\n",
    "                ],\n",
    "                \"direction\": \"left\",\n",
    "                \"pad\": {\"r\": 10, \"t\": 70},\n",
    "                \"type\": \"buttons\",\n",
    "                \"x\": 0.1,\n",
    "                \"y\": 0,\n",
    "            }\n",
    "         ],\n",
    "         sliders=sliders\n",
    ")\n",
    "\n",
    "fig.show()"
   ]
  },
  {
   "cell_type": "code",
   "execution_count": 9,
   "metadata": {},
   "outputs": [],
   "source": []
  }
 ],
 "metadata": {
  "colab": {
   "collapsed_sections": [],
   "name": "final_liver_segmentation.ipynb",
   "provenance": []
  },
  "kernelspec": {
   "display_name": "Python 3",
   "language": "python",
   "name": "python3"
  },
  "language_info": {
   "codemirror_mode": {
    "name": "ipython",
    "version": 3
   },
   "file_extension": ".py",
   "mimetype": "text/x-python",
   "name": "python",
   "nbconvert_exporter": "python",
   "pygments_lexer": "ipython3",
   "version": "3.7.2"
  }
 },
 "nbformat": 4,
 "nbformat_minor": 1
}