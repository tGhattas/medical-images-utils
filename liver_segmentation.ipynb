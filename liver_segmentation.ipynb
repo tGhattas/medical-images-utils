{
  "nbformat": 4,
  "nbformat_minor": 0,
  "metadata": {
    "colab": {
      "name": "liver_segmentation.ipynb",
      "provenance": [],
      "authorship_tag": "ABX9TyPglkGaepzVoMCcxphKSIjt",
      "include_colab_link": true
    },
    "kernelspec": {
      "name": "python3",
      "display_name": "Python 3"
    }
  },
  "cells": [
    {
      "cell_type": "markdown",
      "metadata": {
        "id": "view-in-github",
        "colab_type": "text"
      },
      "source": [
        "<a href=\"https://colab.research.google.com/github/tGhattas/medical-images-utils/blob/main/liver_segmentation.ipynb\" target=\"_parent\"><img src=\"https://colab.research.google.com/assets/colab-badge.svg\" alt=\"Open In Colab\"/></a>"
      ]
    },
    {
      "cell_type": "code",
      "metadata": {
        "colab": {
          "base_uri": "https://localhost:8080/"
        },
        "id": "p7wr5moz2jUt",
        "outputId": "ea2aad5f-28f7-4d8e-bff9-58b1c4f0baf8"
      },
      "source": [
        "!git clone https://github.com/tGhattas/medical-images-utils.git"
      ],
      "execution_count": 1,
      "outputs": [
        {
          "output_type": "stream",
          "text": [
            "Cloning into 'medical-images-utils'...\n",
            "remote: Enumerating objects: 7, done.\u001b[K\n",
            "remote: Counting objects: 100% (7/7), done.\u001b[K\n",
            "remote: Compressing objects: 100% (5/5), done.\u001b[K\n",
            "remote: Total 7 (delta 0), reused 4 (delta 0), pack-reused 0\u001b[K\n",
            "Unpacking objects: 100% (7/7), done.\n"
          ],
          "name": "stdout"
        }
      ]
    },
    {
      "cell_type": "code",
      "metadata": {
        "cellView": "form",
        "id": "f-Ra48yE108K"
      },
      "source": [
        "#@title 3D Plotter\n",
        "\n",
        "from IPython.core.display import display, HTML\n",
        "import json\n",
        "import numpy as np\n",
        "\n",
        "def plot3D(X, Y, Z, height=600, xlabel = \"X\", ylabel = \"Y\", zlabel = \"Z\", initialCamera = None):\n",
        "\n",
        "    options = {\n",
        "        \"width\": \"100%\",\n",
        "        \"style\": \"surface\",\n",
        "        \"showPerspective\": True,\n",
        "        \"showGrid\": True,\n",
        "        \"showShadow\": False,\n",
        "        \"keepAspectRatio\": True,\n",
        "        \"height\": str(height) + \"px\"\n",
        "    }\n",
        "\n",
        "    if initialCamera:\n",
        "        options[\"cameraPosition\"] = initialCamera\n",
        "        \n",
        "    data = [ {\"x\": X[y,x], \"y\": Y[y,x], \"z\": Z[y,x]} for y in range(X.shape[0]) for x in range(X.shape[1]) ]\n",
        "    visCode = r\"\"\"\n",
        "       <link href=\"https://cdnjs.cloudflare.com/ajax/libs/vis/4.21.0/vis.min.css\" type=\"text/css\" rel=\"stylesheet\" />\n",
        "       <script src=\"https://cdnjs.cloudflare.com/ajax/libs/vis/4.21.0/vis.min.js\"></script>\n",
        "       <div id=\"pos\" style=\"top:0px;left:0px;position:absolute;\"></div>\n",
        "       <div id=\"visualization\"></div>\n",
        "       <script type=\"text/javascript\">\n",
        "        var data = new vis.DataSet();\n",
        "        data.add(\"\"\" + json.dumps(data) + \"\"\");\n",
        "        var options = \"\"\" + json.dumps(options) + \"\"\";\n",
        "        var container = document.getElementById(\"visualization\");\n",
        "        var graph3d = new vis.Graph3d(container, data, options);\n",
        "        graph3d.on(\"cameraPositionChange\", function(evt)\n",
        "        {\n",
        "            elem = document.getElementById(\"pos\");\n",
        "            elem.innerHTML = \"H: \" + evt.horizontal + \"<br>V: \" + evt.vertical + \"<br>D: \" + evt.distance;\n",
        "        });\n",
        "       </script>\n",
        "    \"\"\"\n",
        "    htmlCode = \"<iframe srcdoc='\"+visCode+\"' width='100%' height='\" + str(height) + \"px' style='border:0;' scrolling='no'> </iframe>\"\n",
        "    display(HTML(htmlCode))"
      ],
      "execution_count": null,
      "outputs": []
    }
  ]
}